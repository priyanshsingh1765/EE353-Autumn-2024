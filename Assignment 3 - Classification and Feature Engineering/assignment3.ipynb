{
  "cells": [
    {
      "cell_type": "markdown",
      "metadata": {
        "id": "LxxS9-l-QpQm"
      },
      "source": [
        "# EE353 ASSIGNMENT 3\n",
        "#### PRIYANSH SINGH\n",
        "#### 22b1856\n",
        "#### LINK TO THE EXPLANATORY VIDEO:"
      ]
    },
    {
      "cell_type": "code",
      "execution_count": null,
      "metadata": {
        "colab": {
          "base_uri": "https://localhost:8080/"
        },
        "id": "4bSdIcv_RtN0",
        "outputId": "b6a8253e-3ea2-4092-9210-3b81168170c3"
      },
      "outputs": [],
      "source": [
        "from google.colab import drive\n",
        "drive.mount('/content/drive')"
      ]
    },
    {
      "cell_type": "code",
      "execution_count": 1,
      "metadata": {
        "id": "I7oqQvvJQpQt"
      },
      "outputs": [],
      "source": [
        "#data handling and basic math libraries\n",
        "import pandas as pd #pandas for csv file reading and dataframe handling\n",
        "import numpy as np #numpy for basic matrix computations\n",
        "\n",
        "#time library for complexity analysis\n",
        "import time\n",
        "\n",
        "#plotting libraries\n",
        "import matplotlib.pyplot as plt #for scatter and line plots of arrays\n",
        "import seaborn as sns #for heatmaps\n",
        "\n",
        "#scikit-learn\n",
        "from sklearn.model_selection import train_test_split\n",
        "from sklearn.model_selection import GridSearchCV\n",
        "from sklearn.linear_model import LogisticRegression\n",
        "from sklearn.ensemble import RandomForestClassifier\n",
        "from sklearn.metrics import accuracy_score\n",
        "from sklearn.metrics import f1_score"
      ]
    },
    {
      "cell_type": "markdown",
      "metadata": {
        "id": "7D_uoeonQpQw"
      },
      "source": [
        "# Objective 1"
      ]
    },
    {
      "cell_type": "markdown",
      "metadata": {
        "id": "ORYJQfwDQpQx"
      },
      "source": [
        "### Reading the dataset file"
      ]
    },
    {
      "cell_type": "code",
      "execution_count": 2,
      "metadata": {
        "id": "2q_B47LVQpQy"
      },
      "outputs": [],
      "source": [
        "data = pd.read_csv('bank.csv') #using pandas read csv to read the csv file"
      ]
    },
    {
      "cell_type": "markdown",
      "metadata": {
        "id": "8dS3h8l7QpQz"
      },
      "source": [
        "## Task 1 - EDA"
      ]
    },
    {
      "cell_type": "markdown",
      "metadata": {
        "id": "6zXnqHGOQpQz"
      },
      "source": [
        "### Data description [1]"
      ]
    },
    {
      "cell_type": "markdown",
      "metadata": {
        "id": "EvRXxlDRQpQ0"
      },
      "source": [
        "The data is related with direct marketing campaigns (phone calls) of a Portuguese banking institution. The classification goal is to predict if the client will subscribe a term deposit (column deposit in the dataset)."
      ]
    },
    {
      "cell_type": "markdown",
      "metadata": {
        "id": "a5C9HeXIQpQ1"
      },
      "source": [
        "### Usable variables"
      ]
    },
    {
      "cell_type": "markdown",
      "metadata": {
        "id": "T4Tle3ncQpQ2"
      },
      "source": [
        "### Looking at the dataset, the following columns can be deemed useless for the current task in hand: [1]\n",
        "- $\\textbf{Contact}$: Contact communication type - useless for identifying the effectiveness of the marketing campaign, is either of the type cellular or telephone, so it won't affect the outcome to a large extent\n",
        "- $\\textbf{Day}$: Last contact day of the year\n",
        "- $\\textbf{Month}$: Last contact minth of the year  \n",
        "- $\\textbf{Duration}$ - This is the duration in seconds for which the call lasted, and since this information is not present before the call began, we can't use this in our predictive model as we will be unable ot make any inference before the call itself. [1]\n",
        "- $\\textbf{Campaign}$: For a similar reason as above, the number of calls for the current campaign is useless for inference and for prediction."
      ]
    },
    {
      "cell_type": "code",
      "execution_count": 3,
      "metadata": {
        "id": "LsQqzszPQpQ2"
      },
      "outputs": [],
      "source": [
        "filtered_data = data.drop(['contact', 'day', 'month', 'duration', 'campaign'], axis = 1) #removing the useless columns as discussed above"
      ]
    },
    {
      "cell_type": "markdown",
      "metadata": {
        "id": "I8Ejvm-aQpQ3"
      },
      "source": [
        "### Data cleaning\n",
        "- After a thorough search for missing/NaN values in the dataset, the only missing cells were the ones filled with \"unknown\", apart from which the data was completely clean"
      ]
    },
    {
      "cell_type": "markdown",
      "metadata": {},
      "source": [
        "### Looking for the fraction of unknown values for each column  "
      ]
    },
    {
      "cell_type": "code",
      "execution_count": 4,
      "metadata": {},
      "outputs": [
        {
          "name": "stdout",
          "output_type": "stream",
          "text": [
            "Fraction of unknown entries in the following columns:\n",
            "age: 0.0000\n",
            "job: 0.0063\n",
            "marital: 0.0000\n",
            "education: 0.0445\n",
            "default: 0.0000\n",
            "balance: 0.0000\n",
            "housing: 0.0000\n",
            "loan: 0.0000\n",
            "pdays: 0.0000\n",
            "previous: 0.0000\n",
            "poutcome: 0.7459\n",
            "deposit: 0.0000\n"
          ]
        }
      ],
      "source": [
        "print(\"Fraction of unknown entries in the following columns:\")\n",
        "a = 0\n",
        "for column in filtered_data.columns:\n",
        "    n_unknown = 0\n",
        "    for i in range(len(filtered_data[column])):\n",
        "        n_unknown += 1 if filtered_data[column][i] == 'unknown' else 0\n",
        "    print(f\"{column}: {n_unknown/len(filtered_data[column]):.4f}\")  \n",
        "    a += n_unknown"
      ]
    },
    {
      "cell_type": "markdown",
      "metadata": {},
      "source": [
        "- Observation: the column poutcome (Contains results of the previous marketing campaign) has 75% of its entries unavailable, so this column is unreliable and hence can't be used for training/validation.\n",
        "- Hence, dropping the poutcome column:"
      ]
    },
    {
      "cell_type": "code",
      "execution_count": 5,
      "metadata": {},
      "outputs": [],
      "source": [
        "filtered_data = filtered_data.drop(['poutcome'], axis = 1) #removing the poutcome as discussed above"
      ]
    },
    {
      "cell_type": "markdown",
      "metadata": {
        "id": "aMlhtU2_QpQ3"
      },
      "source": [
        "### Correlations among the variables"
      ]
    },
    {
      "cell_type": "markdown",
      "metadata": {
        "id": "jTzaYW8fQpQ3"
      },
      "source": [
        "- A correlation heatmap can be plotted for the columns of the data, for which all columns have to be encoded into numerical values"
      ]
    },
    {
      "cell_type": "code",
      "execution_count": 6,
      "metadata": {
        "id": "F44rKNdGQpQ4"
      },
      "outputs": [],
      "source": [
        "#[3]\n",
        "filtered_data_num = filtered_data.copy() # copying the filtered dataframe into a dataframe which will be numerically encoded"
      ]
    },
    {
      "cell_type": "markdown",
      "metadata": {
        "id": "1lPiC6-dQpQ4"
      },
      "source": [
        "### Using One-hot encoding for all the non-binary categorical columns"
      ]
    },
    {
      "cell_type": "code",
      "execution_count": 7,
      "metadata": {
        "id": "IndR40dwQpQ4"
      },
      "outputs": [],
      "source": [
        "#One-hot encoding for the columns: Job, Marital, Education\n",
        "#[4]\n",
        "filtered_data_num = pd.get_dummies(filtered_data_num, columns = ['job', 'marital', 'education']) #using the get_dummies function in pandas\n",
        "filtered_data_num = filtered_data_num.drop(['job_unknown', 'education_unknown'], axis = 1) #removing the one hot columns corresponding to unknown entries"
      ]
    },
    {
      "cell_type": "code",
      "execution_count": 8,
      "metadata": {
        "id": "AxDE3KvoQpQ5",
        "outputId": "7d40b664-22c6-4f62-9cff-24f180a4201e"
      },
      "outputs": [
        {
          "name": "stdout",
          "output_type": "stream",
          "text": [
            "Column Names:\n",
            "age\n",
            "default\n",
            "balance\n",
            "housing\n",
            "loan\n",
            "pdays\n",
            "previous\n",
            "deposit\n",
            "job_admin.\n",
            "job_blue-collar\n",
            "job_entrepreneur\n",
            "job_housemaid\n",
            "job_management\n",
            "job_retired\n",
            "job_self-employed\n",
            "job_services\n",
            "job_student\n",
            "job_technician\n",
            "job_unemployed\n",
            "marital_divorced\n",
            "marital_married\n",
            "marital_single\n",
            "education_primary\n",
            "education_secondary\n",
            "education_tertiary\n"
          ]
        }
      ],
      "source": [
        "print(\"Column Names:\") #printing the column names\n",
        "print(\"\\n\".join(filtered_data_num.columns)) #all columns od the filtered dataframe"
      ]
    },
    {
      "cell_type": "markdown",
      "metadata": {
        "id": "w3BKg77AQpQ6"
      },
      "source": [
        "### Binary encoding for the binary columns\n",
        "- default\n",
        "- housing\n",
        "- loan\n"
      ]
    },
    {
      "cell_type": "code",
      "execution_count": 9,
      "metadata": {
        "id": "OM5lc90AQpQ7"
      },
      "outputs": [
        {
          "name": "stderr",
          "output_type": "stream",
          "text": [
            "C:\\Users\\Admin\\AppData\\Local\\Temp\\ipykernel_18516\\2017963897.py:1: FutureWarning: Downcasting behavior in `replace` is deprecated and will be removed in a future version. To retain the old behavior, explicitly call `result.infer_objects(copy=False)`. To opt-in to the future behavior, set `pd.set_option('future.no_silent_downcasting', True)`\n",
            "  filtered_data_num[['default', 'housing', 'loan']] = filtered_data_num[['default', 'housing', 'loan']].replace({'no': 0, 'yes': 1}) #encoding the yes as 1 and no as 0, \"unknown\" remaining \"unknown\"\n"
          ]
        }
      ],
      "source": [
        "filtered_data_num[['default', 'housing', 'loan']] = filtered_data_num[['default', 'housing', 'loan']].replace({'no': 0, 'yes': 1}) #encoding the yes as 1 and no as 0, \"unknown\" remaining \"unknown\"\n",
        "filtered_data_num_X = filtered_data_num.drop(['deposit'], axis = 1) #Dataframe of the independent variables"
      ]
    },
    {
      "cell_type": "markdown",
      "metadata": {
        "id": "2NxtWwzrQpQ7"
      },
      "source": [
        "### Iteratively finding correlations between the columns\n",
        "- NOTE: I am not using the filtered_data_num.corr() function due to the various columns containing \"unknown\" in multiple different rows, which would need removal of all such rows, significantly reducing the data size."
      ]
    },
    {
      "cell_type": "code",
      "execution_count": 10,
      "metadata": {
        "id": "qcgi3mAvQpQ7"
      },
      "outputs": [],
      "source": [
        "#[5]\n",
        "corr_matrix = pd.DataFrame(np.nan, index=filtered_data_num_X.columns, columns=filtered_data_num_X.columns) #creating a column name indiced square matrix dataframe to hold the correlation values\n",
        "for col1 in filtered_data_num_X.columns: #looping once through all the columns\n",
        "    for col2 in filtered_data_num_X: #second loop\n",
        "\n",
        "        column1 = filtered_data_num_X[col1] #reading the col1 of filtered data\n",
        "        column2 = filtered_data_num_X[col2] #reading the col2 of filtered data\n",
        "\n",
        "        for i in column1.index[column1 == 'unknown']: #checking for unknown entries in col1\n",
        "            column1.drop(i).reset_index(drop = True) #[6] dropping and resetting the rows with unknown entries\n",
        "            column2.drop(i).reset_index(drop = True) #dropping and resetting the rows with unknown entries for col2\n",
        "\n",
        "        for i in column2.index[column2 == 'unknown']: #checking for unknown entries in col1\n",
        "            column1.drop(i).reset_index(drop = True) #[6] dropping and resetting the rows with unknown entries\n",
        "            column2.drop(i).reset_index(drop = True) #dropping and resetting the rows with unknown entries for col2\n",
        "\n",
        "        corr_matrix.at[col1, col2] = column1.corr(column2) #Correlation between col1 and col"
      ]
    },
    {
      "cell_type": "code",
      "execution_count": 11,
      "metadata": {
        "id": "8qub8tB9QpQ8",
        "outputId": "7be795a7-3359-4cc7-85b9-45ec23649e22"
      },
      "outputs": [
        {
          "name": "stderr",
          "output_type": "stream",
          "text": [
            "C:\\Users\\Admin\\AppData\\Local\\Temp\\ipykernel_18516\\4153029032.py:3: FutureWarning: DataFrame.applymap has been deprecated. Use DataFrame.map instead.\n",
            "  sns.heatmap(corr_matrix, annot=corr_matrix.applymap(lambda x: 'X' if abs(x) > 0.6 else ''), fmt='', cmap='coolwarm', square=True, cbar_kws={\"shrink\": .8}) #annotated heatmap\n"
          ]
        },
        {
          "data": {
            "text/plain": [
              "Text(0.5, 1.0, 'Correlation heatmap for the dataset')"
            ]
          },
          "execution_count": 11,
          "metadata": {},
          "output_type": "execute_result"
        },
        {
          "data": {
            "image/png": "[encoded data removed]",
            "text/plain": [
              "<Figure size 800x600 with 2 Axes>"
            ]
          },
          "metadata": {},
          "output_type": "display_data"
        }
      ],
      "source": [
        "plt.figure(figsize = (8, 6)) #setting output figure size\n",
        "#[7]\n",
        "sns.heatmap(corr_matrix, annot=corr_matrix.applymap(lambda x: 'X' if abs(x) > 0.6 else ''), fmt='', cmap='coolwarm', square=True, cbar_kws={\"shrink\": .8}) #annotated heatmap\n",
        "plt.title(\"Correlation heatmap for the dataset\") #title for the heatmap"
      ]
    },
    {
      "cell_type": "markdown",
      "metadata": {
        "id": "uu4x-wtpQpQ8"
      },
      "source": [
        "### Decision from the correlation heatmap:\n",
        "- Due to high correlation between the job_retired column and the age column (which is logically expected), we can drop the job_retired column\n",
        "- Apart from this pair, other correlated columns don't seem logical to be dropped"
      ]
    },
    {
      "cell_type": "code",
      "execution_count": 12,
      "metadata": {
        "id": "nchTVwFbQpQ9"
      },
      "outputs": [],
      "source": [
        "filtered_data_num = filtered_data_num.drop(['job_retired'], axis = 1) #dropping the job_retired one-hot column"
      ]
    },
    {
      "cell_type": "markdown",
      "metadata": {
        "id": "4jX9T-H6QpQ9"
      },
      "source": [
        "### Checking for balance in the output class"
      ]
    },
    {
      "cell_type": "code",
      "execution_count": 13,
      "metadata": {
        "id": "hGndHGoJQpQ9",
        "outputId": "399883e6-38d4-4683-900e-04955ad1f767"
      },
      "outputs": [
        {
          "data": {
            "image/png": "[encoded data removed]",
            "text/plain": [
              "<Figure size 640x480 with 1 Axes>"
            ]
          },
          "metadata": {},
          "output_type": "display_data"
        }
      ],
      "source": [
        "plt.hist(filtered_data_num['deposit']) #plotting a histogram of the deposit column\n",
        "plt.show() #show the plot"
      ]
    },
    {
      "cell_type": "markdown",
      "metadata": {
        "id": "gNw8s7QTQpQ-"
      },
      "source": [
        "- The above histogram suggests a pretty much balanced class column   "
      ]
    },
    {
      "cell_type": "markdown",
      "metadata": {
        "id": "y6KHPAiWQpQ-"
      },
      "source": [
        "### Which classes to use"
      ]
    },
    {
      "cell_type": "markdown",
      "metadata": {
        "id": "YuAfp7CmQpQ-"
      },
      "source": [
        "# Objective 2"
      ]
    },
    {
      "cell_type": "code",
      "execution_count": null,
      "metadata": {
        "colab": {
          "base_uri": "https://localhost:8080/"
        },
        "id": "E1G7FzETQpQ_",
        "outputId": "e446663b-21c5-4a41-d189-a766780fa7f3"
      },
      "outputs": [],
      "source": [
        "# License: BSD\n",
        "# Author: Sasank Chilamkurthy\n",
        "\n",
        "import torch\n",
        "import torch.nn as nn\n",
        "import torch.optim as optim\n",
        "from torch.optim import lr_scheduler\n",
        "import torch.backends.cudnn as cudnn\n",
        "import numpy as np\n",
        "import torchvision\n",
        "from torchvision import datasets, models, transforms\n",
        "import matplotlib.pyplot as plt\n",
        "import time\n",
        "import os\n",
        "from PIL import Image\n",
        "from tempfile import TemporaryDirectory\n",
        "device = torch.device(\"cuda\" if torch.cuda.is_available() else \"cpu\")\n",
        "cudnn.benchmark = True\n",
        "plt.ion()   # interactive mode"
      ]
    },
    {
      "cell_type": "code",
      "execution_count": 13,
      "metadata": {
        "colab": {
          "base_uri": "https://localhost:8080/"
        },
        "id": "tenB-b72QpQ_",
        "outputId": "c0b6e3d0-2b13-4105-91b2-215f33eca06b"
      },
      "outputs": [],
      "source": [
        "# Data augmentation and normalization for training\n",
        "# Just normalization for validation\n",
        "data_transforms = {\n",
        "    'train': transforms.Compose([\n",
        "        transforms.RandomResizedCrop(224),\n",
        "        transforms.RandomHorizontalFlip(),\n",
        "        transforms.ToTensor(),\n",
        "        transforms.Normalize([0.485, 0.456, 0.406], [0.229, 0.224, 0.225])\n",
        "    ]),\n",
        "    'val': transforms.Compose([\n",
        "        transforms.Resize(256),\n",
        "        transforms.CenterCrop(224),\n",
        "        transforms.ToTensor(),\n",
        "        transforms.Normalize([0.485, 0.456, 0.406], [0.229, 0.224, 0.225])\n",
        "    ]),\n",
        "}\n",
        "\n",
        "# data_dir = '/content/drive/My Drive/EE353 assignments/Assignment 3/hymenoptera_data' #use this directory for collab use\n",
        "data_dir = 'hymenoptera_data'\n",
        "\n",
        "image_datasets = {x: datasets.ImageFolder(os.path.join(data_dir, x),\n",
        "                                          data_transforms[x])\n",
        "                  for x in ['train', 'val']}\n",
        "dataloaders = {x: torch.utils.data.DataLoader(image_datasets[x], batch_size=4,\n",
        "                                             shuffle=True, num_workers=4)\n",
        "              for x in ['train', 'val']}\n",
        "dataset_sizes = {x: len(image_datasets[x]) for x in ['train', 'val']}\n",
        "class_names = image_datasets['train'].classes"
      ]
    },
    {
      "cell_type": "code",
      "execution_count": null,
      "metadata": {
        "colab": {
          "base_uri": "https://localhost:8080/",
          "height": 207
        },
        "id": "802ToLIjQpRA",
        "outputId": "276332aa-16bc-4a8b-8fef-b3b0b77ed6d4"
      },
      "outputs": [],
      "source": [
        "def imshow(inp, title=None):\n",
        "    \"\"\"Display image for Tensor.\"\"\"\n",
        "    inp = inp.numpy().transpose((1, 2, 0))\n",
        "    mean = np.array([0.485, 0.456, 0.406])\n",
        "    std = np.array([0.229, 0.224, 0.225])\n",
        "    inp = std * inp + mean\n",
        "    inp = np.clip(inp, 0, 1)\n",
        "    plt.imshow(inp)\n",
        "    if title is not None:\n",
        "        plt.title(title)\n",
        "    plt.pause(0.001)  # pause a bit so that plots are updated\n",
        "\n",
        "\n",
        "# Get a batch of training data\n",
        "inputs, classes = next(iter(dataloaders['train']))\n",
        "\n",
        "# Make a grid from batch\n",
        "out = torchvision.utils.make_grid(inputs)\n",
        "\n",
        "imshow(out, title=[class_names[x] for x in classes])"
      ]
    },
    {
      "cell_type": "code",
      "execution_count": 15,
      "metadata": {
        "id": "R79D9NqSQpRA"
      },
      "outputs": [],
      "source": [
        "def train_model(model, criterion, optimizer, scheduler, num_epochs=25):\n",
        "    since = time.time()\n",
        "\n",
        "    # Create a temporary directory to save training checkpoints\n",
        "    with TemporaryDirectory() as tempdir:\n",
        "        best_model_params_path = os.path.join(tempdir, 'best_model_params.pt')\n",
        "\n",
        "        torch.save(model.state_dict(), best_model_params_path)\n",
        "        best_acc = 0.0\n",
        "\n",
        "        for epoch in range(num_epochs):\n",
        "            print(f'Epoch {epoch}/{num_epochs - 1}')\n",
        "            print('-' * 10)\n",
        "\n",
        "            # Each epoch has a training and validation phase\n",
        "            for phase in ['train', 'val']:\n",
        "                if phase == 'train':\n",
        "                    model.train()  # Set model to training mode\n",
        "                else:\n",
        "                    model.eval()   # Set model to evaluate mode\n",
        "\n",
        "                running_loss = 0.0\n",
        "                running_corrects = 0\n",
        "                # Iterate over data.\n",
        "                for inputs, labels in dataloaders[phase]:\n",
        "                    inputs = inputs.to(device)\n",
        "                    labels = labels.to(device)\n",
        "\n",
        "                    # zero the parameter gradients\n",
        "                    optimizer.zero_grad()\n",
        "\n",
        "                    # forward\n",
        "                    # track history if only in train\n",
        "                    with torch.set_grad_enabled(phase == 'train'):\n",
        "                        outputs = model(inputs)\n",
        "                        _, preds = torch.max(outputs, 1)\n",
        "                        loss = criterion(outputs, labels)\n",
        "\n",
        "                        # backward + optimize only if in training phase\n",
        "                        if phase == 'train':\n",
        "                            loss.backward()\n",
        "                            optimizer.step()\n",
        "\n",
        "                    # statistics\n",
        "                    running_loss += loss.item() * inputs.size(0)\n",
        "                    running_corrects += torch.sum(preds == labels.data)\n",
        "                if phase == 'train':\n",
        "                    scheduler.step()\n",
        "\n",
        "                epoch_loss = running_loss / dataset_sizes[phase]\n",
        "                epoch_acc = running_corrects.double() / dataset_sizes[phase]\n",
        "\n",
        "                print(f'{phase} Loss: {epoch_loss:.4f} Acc: {epoch_acc:.4f}')\n",
        "\n",
        "                # deep copy the model\n",
        "                if phase == 'val' and epoch_acc > best_acc:\n",
        "                    best_acc = epoch_acc\n",
        "                    torch.save(model.state_dict(), best_model_params_path)\n",
        "\n",
        "            print()\n",
        "\n",
        "        time_elapsed = time.time() - since\n",
        "        print(f'Training complete in {time_elapsed // 60:.0f}m {time_elapsed % 60:.0f}s')\n",
        "        print(f'Best val Acc: {best_acc:4f}')\n",
        "\n",
        "        # load best model weights\n",
        "        model.load_state_dict(torch.load(best_model_params_path, weights_only=True))\n",
        "    return model\n",
        "\n",
        "def visualize_model(model, num_images=6):\n",
        "    was_training = model.training\n",
        "    model.eval()\n",
        "    images_so_far = 0\n",
        "    fig = plt.figure()\n",
        "\n",
        "    with torch.no_grad():\n",
        "        for i, (inputs, labels) in enumerate(dataloaders['val']):\n",
        "            inputs = inputs.to(device)\n",
        "            labels = labels.to(device)\n",
        "\n",
        "            outputs = model(inputs)\n",
        "            _, preds = torch.max(outputs, 1)\n",
        "\n",
        "            for j in range(inputs.size()[0]):\n",
        "                images_so_far += 1\n",
        "                ax = plt.subplot(num_images//2, 2, images_so_far)\n",
        "                ax.axis('off')\n",
        "                ax.set_title(f'predicted: {class_names[preds[j]]}')\n",
        "                imshow(inputs.cpu().data[j])\n",
        "\n",
        "                if images_so_far == num_images:\n",
        "                    model.train(mode=was_training)\n",
        "                    return\n",
        "        model.train(mode=was_training)"
      ]
    },
    {
      "cell_type": "code",
      "execution_count": 16,
      "metadata": {
        "colab": {
          "base_uri": "https://localhost:8080/"
        },
        "id": "3qgpsNiqQpRB",
        "outputId": "46dde5f5-417f-435d-da00-89df9ed4bf2b"
      },
      "outputs": [],
      "source": [
        "model_conv = torchvision.models.resnet18(weights='IMAGENET1K_V1')\n",
        "for param in model_conv.parameters():\n",
        "    param.requires_grad = False\n",
        "\n",
        "# Parameters of newly constructed modules have requires_grad=True by default\n",
        "num_ftrs = model_conv.fc.in_features\n",
        "model_conv.fc = nn.Linear(num_ftrs, 2)\n",
        "\n",
        "model_conv = model_conv.to(device)\n",
        "\n",
        "criterion = nn.CrossEntropyLoss()\n",
        "\n",
        "# Observe that only parameters of final layer are being optimized as\n",
        "# opposed to before.\n",
        "optimizer_conv = optim.SGD(model_conv.fc.parameters(), lr=0.001, momentum=0.9)\n",
        "\n",
        "# Decay LR by a factor of 0.1 every 7 epochs\n",
        "exp_lr_scheduler = lr_scheduler.StepLR(optimizer_conv, step_size=7, gamma=0.1)"
      ]
    },
    {
      "cell_type": "code",
      "execution_count": null,
      "metadata": {
        "colab": {
          "base_uri": "https://localhost:8080/"
        },
        "id": "OqVU0W2mQpRC",
        "outputId": "290253d5-8775-46fe-e212-b4bdd73f63f2"
      },
      "outputs": [],
      "source": [
        "model_conv = train_model(model_conv, criterion, optimizer_conv, exp_lr_scheduler, num_epochs=25)"
      ]
    },
    {
      "cell_type": "code",
      "execution_count": 19,
      "metadata": {
        "id": "6O65ViQbaAP4"
      },
      "outputs": [],
      "source": [
        "#[8]\n",
        "torch.save(model_conv, 'model_conv.pth') #saving the model"
      ]
    },
    {
      "cell_type": "code",
      "execution_count": 17,
      "metadata": {
        "colab": {
          "base_uri": "https://localhost:8080/"
        },
        "id": "lxpu6c_RaUNS",
        "outputId": "50aa9c5a-f68f-419f-9937-4abd9482c0b4"
      },
      "outputs": [],
      "source": [
        "#[8]\n",
        "model_loaded = torch.load('model_conv.pth', map_location=torch.device('cpu')) #loading the model, mapping the GPU-trained model to the CPU "
      ]
    },
    {
      "cell_type": "code",
      "execution_count": null,
      "metadata": {
        "colab": {
          "base_uri": "https://localhost:8080/",
          "height": 923
        },
        "id": "n9GY4adLVMov",
        "outputId": "b1b33cf5-9ed9-4e17-8cf7-f6aa988fe0ca"
      },
      "outputs": [],
      "source": [
        "visualize_model(model_loaded)\n",
        "\n",
        "plt.ioff()\n",
        "plt.show()"
      ]
    },
    {
      "cell_type": "code",
      "execution_count": 19,
      "metadata": {
        "id": "_PGtlMOlVQHU"
      },
      "outputs": [],
      "source": [
        "def visualize_model_predictions(model,img_path):\n",
        "    was_training = model.training\n",
        "    model.eval()\n",
        "\n",
        "    img = Image.open(img_path)\n",
        "    img = data_transforms['val'](img)\n",
        "    img = img.unsqueeze(0)\n",
        "    img = img.to(device)\n",
        "\n",
        "    with torch.no_grad():\n",
        "        outputs = model(img)\n",
        "        _, preds = torch.max(outputs, 1)\n",
        "\n",
        "        ax = plt.subplot(2,2,1)\n",
        "        ax.axis('off')\n",
        "        ax.set_title(f'Predicted: {class_names[preds[0]]}')\n",
        "        imshow(img.cpu().data[0])\n",
        "\n",
        "        model.train(mode=was_training)"
      ]
    },
    {
      "cell_type": "code",
      "execution_count": null,
      "metadata": {
        "colab": {
          "base_uri": "https://localhost:8080/",
          "height": 227
        },
        "id": "IWdK76KXVU64",
        "outputId": "cf67c800-cec4-424f-f626-f0fa5128ff7b"
      },
      "outputs": [],
      "source": [
        "visualize_model_predictions(\n",
        "    model_loaded,\n",
        "    # img_path='/content/drive/My Drive/EE353 assignments/Assignment 3/hymenoptera_data/val/bees/72100438_73de9f17af.jpg' #directory for collab use\n",
        "    img_path='hymenoptera_data/val/bees/72100438_73de9f17af.jpg' #directory for pc use\n",
        ")\n",
        "\n",
        "plt.ioff()\n",
        "plt.show()"
      ]
    },
    {
      "cell_type": "markdown",
      "metadata": {},
      "source": [
        "## Task 11 - Function to extract ResNet18 features"
      ]
    },
    {
      "cell_type": "code",
      "execution_count": 21,
      "metadata": {},
      "outputs": [],
      "source": [
        "def extract_resnet_18_features(model, img_path):\n",
        "    model = nn.Sequential(*list(model.children())[:-1]) # Remove the last fully connected layer (the classifier)\n",
        "    model.eval() #setting the model in evaluation mode\n",
        "    img = Image.open(img_path) #opening the image at the given path\n",
        "    img = data_transforms['val'](img)\n",
        "    img = img.unsqueeze(0)\n",
        "    img = img.to(device)\n",
        "\n",
        "    with torch.no_grad(): #avoiding gradient calculation during inference\n",
        "        feature_vector = model(img)\n",
        "    \n",
        "    return feature_vector[0][:,0,0] #the feature vector is 1x512x1x1, the first, third and forth dimensions represent redundant information, the frature values themselves are in the second dimension"
      ]
    },
    {
      "cell_type": "markdown",
      "metadata": {},
      "source": [
        "### Testing the feature extractor function"
      ]
    },
    {
      "cell_type": "code",
      "execution_count": null,
      "metadata": {},
      "outputs": [],
      "source": [
        "feat_vctr = extract_resnet_18_features(\n",
        "    model_loaded,\n",
        "    img_path='hymenoptera_data/val/bees/72100438_73de9f17af.jpg' #directory for pc use\n",
        ")\n",
        "feat_vctr.shape"
      ]
    },
    {
      "cell_type": "markdown",
      "metadata": {},
      "source": [
        "### Extracting features for all the images in the train set"
      ]
    },
    {
      "cell_type": "code",
      "execution_count": 23,
      "metadata": {},
      "outputs": [],
      "source": [
        "features_train_bees = [] #list to store the features for the bees train data\n",
        "features_train_ants = [] #list to store the features for the ants train data\n",
        "\n",
        "features_test_bees = [] #list to store the features for the bees test data\n",
        "features_test_ants = [] #list to store the features for the ants test data\n",
        "\n",
        "#[9]\n",
        "bees_train_folder_path = 'hymenoptera_data/train/bees/' #path to ants train data folder\n",
        "\n",
        "for file_name in os.listdir(bees_train_folder_path): #looping through the entire folder\n",
        "    img_path = os.path.join(bees_train_folder_path, file_name)  # Full path to the image\n",
        "    feat_vctr = extract_resnet_18_features(model_loaded, img_path)  # Extract features using the function made for resnet18\n",
        "    features_train_bees.append(feat_vctr)  #append to the list of bee image features\n",
        "\n",
        "ants_train_folder_path = 'hymenoptera_data/train/ants/' #path to ants train data folder\n",
        "\n",
        "for file_name in os.listdir(ants_train_folder_path): #looping through the entire folder\n",
        "    img_path = os.path.join(ants_train_folder_path, file_name)  # Full path to the image\n",
        "    feat_vctr = extract_resnet_18_features(model_loaded, img_path)  # Extract features using the function made for resnet18\n",
        "    features_train_ants.append(feat_vctr)  #append to the list of ant image features\n",
        "\n",
        "bees_test_folder_path = 'hymenoptera_data/val/bees/' #path to ants train data folder\n",
        "\n",
        "for file_name in os.listdir(bees_test_folder_path): #looping through the entire folder\n",
        "    img_path = os.path.join(bees_test_folder_path, file_name)  # Full path to the image\n",
        "    feat_vctr = extract_resnet_18_features(model_loaded, img_path)  # Extract features using the function made for resnet18\n",
        "    features_test_bees.append(feat_vctr)  #append to the list of bee image features\n",
        "\n",
        "ants_test_folder_path = 'hymenoptera_data/val/ants/' #path to ants train data folder\n",
        "\n",
        "for file_name in os.listdir(ants_test_folder_path): #looping through the entire folder\n",
        "    img_path = os.path.join(ants_test_folder_path, file_name)  # Full path to the image\n",
        "    feat_vctr = extract_resnet_18_features(model_loaded, img_path)  # Extract features using the function made for resnet18\n",
        "    features_test_ants.append(feat_vctr)  #append to the list of ant image features"
      ]
    },
    {
      "cell_type": "code",
      "execution_count": 24,
      "metadata": {},
      "outputs": [],
      "source": [
        "features_train_bees = np.array(features_train_bees) #converting to a numpy array for ease of programming\n",
        "features_train_ants = np.array(features_train_ants) #converting to a numpy array for ease of programming\n",
        "\n",
        "features_test_bees = np.array(features_test_bees) #converting to a numpy array for ease of programming\n",
        "features_test_ants = np.array(features_test_ants) #converting to a numpy array for ease of programming"
      ]
    },
    {
      "cell_type": "code",
      "execution_count": null,
      "metadata": {},
      "outputs": [],
      "source": [
        "print(f\"Shape of the feature array for the bees train data: {features_train_bees.shape}\\nShape of the feature array for the ants train data: {features_train_ants.shape}\")\n",
        "print(f\"Shape of the feature array for the bees validation data: {features_test_bees.shape}\\nShape of the feature array for the ants validation data: {features_test_ants.shape}\")"
      ]
    },
    {
      "cell_type": "markdown",
      "metadata": {},
      "source": [
        "## Task 12 - Comparing logistic regression and random forest"
      ]
    },
    {
      "cell_type": "markdown",
      "metadata": {},
      "source": [
        "### 0. Curating the dataset, consisiting of the feature vectors and the corresponding ant/bee tags "
      ]
    },
    {
      "cell_type": "code",
      "execution_count": 26,
      "metadata": {},
      "outputs": [],
      "source": [
        "feature_train_data = pd.DataFrame(np.append(features_train_bees, features_train_ants, axis = 0)) #constructing a dataframe from the feature matrix\n",
        "feature_test_data = pd.DataFrame(np.append(features_test_bees, features_test_ants, axis = 0)) #constructing a dataframe from the feature matrix\n",
        "\n",
        "train_labels = [] #stores the train labels \n",
        "test_labels = [] #stores the test labels\n",
        "\n",
        "train_labels = np.append(np.ones(features_train_bees.shape[0]), np.zeros(features_train_ants.shape[0])) #bee encoded as 1 and ant encoded as 0\n",
        "test_labels = np.append(np.ones(features_test_bees.shape[0]), np.zeros(features_test_ants.shape[0])) #bee encoded as 1 and ant encoded as 0"
      ]
    },
    {
      "cell_type": "markdown",
      "metadata": {},
      "source": [
        "### 1. L2 regularized logistic regression on the extracted features"
      ]
    },
    {
      "cell_type": "code",
      "execution_count": null,
      "metadata": {},
      "outputs": [],
      "source": [
        "#[10]\n",
        "lambda1 = 1\n",
        "log_reg_model = LogisticRegression(penalty='l2', C=1/lambda1, max_iter=200) #Creating the regularized model with C = 1/lambda1\n",
        "log_reg_model.fit(feature_train_data, train_labels) #fitting the logistic regression model on the train data of features\n",
        "y_pred = log_reg_model.predict(feature_test_data) #array of predicted labels for the validation data \n",
        "accuracy = accuracy_score(test_labels, y_pred) #accuracy of the prediction \n",
        "f1 = f1_score(test_labels, y_pred)  #F1 score of the prediction\n",
        "print(f\"F1 Score for the model with lambda1 = {lambda1}: {f1:.4f}\")  #printing the accuracy \n",
        "print(f\"Fractional Accuracy of the Logistic Regression model with lambda1 = {lambda1}: {accuracy:.2f}\") #printing the accuracy "
      ]
    },
    {
      "cell_type": "markdown",
      "metadata": {},
      "source": [
        "## 2. Random forest with a grid search on max depth and number of trees"
      ]
    },
    {
      "cell_type": "code",
      "execution_count": null,
      "metadata": {},
      "outputs": [],
      "source": [
        "#[11]\n",
        "param_grid = { \n",
        "    'n_estimators': [25, 50, 100, 150, 200, 250, 300, 350], #number of tree values to test for in the grid search  \n",
        "    'max_depth': [3, 5, 10, 15, 20, 25] #max depth values to test for in the grid search  \n",
        "}\n",
        "\n",
        "rf = RandomForestClassifier() #Initializing the random forest classifier model\n",
        "grid_search = GridSearchCV(estimator=rf, param_grid=param_grid, cv=5, scoring='accuracy') #Perform grid search with cross-validation on the max depth and the number of trees\n",
        "grid_search.fit(feature_train_data, train_labels) #Fit the model on the features dataset\n",
        "\n",
        "best_params = grid_search.best_params_ #Get the best parameters\n",
        "best_score = grid_search.best_score_ #Get the best score\n",
        "\n",
        "print(f\"Best Parameters: {best_params}\") #print the best parameters \n",
        "print(f\"Best Cross-Validation Accuracy: {best_score:.4f}\") #print the best score"
      ]
    },
    {
      "cell_type": "code",
      "execution_count": null,
      "metadata": {},
      "outputs": [],
      "source": [
        "#training the final model with the best parameter values \n",
        "rf_final = RandomForestClassifier(n_estimators = best_params['n_estimators'], max_depth = best_params['max_depth']) #initializing the model with the best values of the parameters\n",
        "rf_final.fit(feature_train_data, train_labels) #Fitting the model on the features dataset\n",
        "y_pred = rf_final.predict(feature_test_data)\n",
        "accuracy = accuracy_score(test_labels, y_pred) #accuracy of the prediction \n",
        "f1 = f1_score(test_labels, y_pred)  #F1 score of the prediction\n",
        "print(f\"F1 Score for the best parameter random forest: {f1:.4f}\") #printing the F1 score\n",
        "print(f\"Fractional Accuracy of the best parameter random forest: {accuracy:.2f}\") #printing the accuracy "
      ]
    },
    {
      "cell_type": "markdown",
      "metadata": {},
      "source": [
        "### Results:\n",
        "- Ensemble learning through random forest proved to be more effective than the linear predictor as depicted by the accuracy and f1 score values for the two models\n",
        "- Through a grid search for the best values of the number of trees and max tree depth from the chosen grid of parameters, the best values were found to be: max depth = 20, number of trees = 350"
      ]
    },
    {
      "cell_type": "markdown",
      "metadata": {
        "id": "OIIcMKyTQpRD"
      },
      "source": [
        "# References:  \n",
        "[1]: Description of the dataset from the UCI ML repository website: https://archive.ics.uci.edu/dataset/222/bank+marketing  \n",
        "[2]: ChatGPT was used for basic excel tasks such as finding the distribution of entries in a column, listing the unique entries in a column, etc.  \n",
        "[3]: ChatGPT prompt: How to copy a dataframe into another dataframe.  \n",
        "[4]: ChatGPT prompt: Pandas function for one-hot encoding of categorical columns in a dataframe  \n",
        "[5]: ChatGPT prompt: Construct a correlation matrix indiced by the data column names rather than the column/row indices  \n",
        "[6]: ChatGPT prompt: Dropping and resetting the row indices for a certain column data  \n",
        "[7]: ChatGPT prompt: How to get an annotated heatamp with 'X' markers in the cells where the correlation > threshold   \n",
        "[8]: ChatGPT prompt: How to save my model as a model file in torch and then load it for future use.  \n",
        "[9]: ChatGPT prompt: How to apply a python function iteratively on multiple file paths.  \n",
        "[10]: ChatGPT prompt: Logistic regression with adjustable regularization using scikit-learn.  \n",
        "[11]: ChatGPT prompt: Random forest with a grid search on max depth and number of trees using scikit-learn."
      ]
    }
  ],
  "metadata": {
    "accelerator": "GPU",
    "colab": {
      "gpuType": "T4",
      "provenance": []
    },
    "kernelspec": {
      "display_name": "Python 3",
      "name": "python3"
    },
    "language_info": {
      "codemirror_mode": {
        "name": "ipython",
        "version": 3
      },
      "file_extension": ".py",
      "mimetype": "text/x-python",
      "name": "python",
      "nbconvert_exporter": "python",
      "pygments_lexer": "ipython3",
      "version": "3.12.2"
    }
  },
  "nbformat": 4,
  "nbformat_minor": 0
}
